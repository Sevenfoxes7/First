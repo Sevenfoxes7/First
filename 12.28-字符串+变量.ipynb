{
 "cells": [
  {
   "cell_type": "markdown",
   "metadata": {},
   "source": [
    "# 字符串\n",
    "* 转义字符\n",
    "* 格式化\n",
    "* 内建函数（后延）\n",
    "\n",
    "## 转义字符\n",
    "* 用一个特殊的方法表示出一系列不方便写出的内容，比如回车键、换行键、退格键\n",
    "* 借助反斜杠字符，一旦出现反斜杠，则反斜杠后面的几个字符已经不是原来的意思\n",
    "* 在字符串中，一旦出现反斜杠要加倍小心，可能出现转义字符\n",
    "* 不同系统对换行有不同表示：\n",
    "     * windows: \\n\n",
    "     * Linux: \\r\\n"
   ]
  },
  {
   "cell_type": "code",
   "execution_count": 8,
   "metadata": {},
   "outputs": [
    {
     "name": "stdout",
     "output_type": "stream",
     "text": [
      "Let's go\n",
      "Let's go\n",
      "c:\\user\n",
      "I love \r\n",
      " wangxiaojing\n"
     ]
    }
   ],
   "source": [
    "# 表示Let's go\n",
    "# 1.使用嵌套引号，即外层使用双引号\n",
    "# 2.转义字符\n",
    "s = \"Let's go\"\n",
    "print(s)\n",
    "\n",
    "# \\'=='\n",
    "ss = 'Let\\'s go'\n",
    "print(ss)\n",
    "\n",
    "# \\\\==\\\n",
    "sss = \"c:\\\\user\"\n",
    "print(sss)\n",
    "\n",
    "# 回车换行符：\\r\\n\n",
    "s1 = \"I love \\r\\n wangxiaojing\"\n",
    "print(s1)"
   ]
  },
  {
   "cell_type": "markdown",
   "metadata": {},
   "source": [
    "## 字符串的格式化\n",
    "* 把字符串按照一定格式打印或填充\n",
    "* 格式化有两种方法\n",
    "   * 利用百分号：%d表示此处放入一个整数；%s表示此处应该放入一个字符串\n",
    "   * 利用format函数"
   ]
  },
  {
   "cell_type": "code",
   "execution_count": 17,
   "metadata": {},
   "outputs": [
    {
     "name": "stdout",
     "output_type": "stream",
     "text": [
      "I love %s\n",
      "I love wnagxiaojing\n",
      "I love wangxiaojing\n"
     ]
    }
   ],
   "source": [
    "s = \"I love %s\"\n",
    "print(s)\n",
    "\n",
    "print(\"I love %s\"%\"wnagxiaojing\")\n",
    "\n",
    "print( s%\"wangxiaojing\")"
   ]
  },
  {
   "cell_type": "code",
   "execution_count": 20,
   "metadata": {},
   "outputs": [
    {
     "name": "stdout",
     "output_type": "stream",
     "text": [
      "I am %d years old\n",
      "I am 18 years old\n"
     ]
    }
   ],
   "source": [
    "s = \"I am %d years old\"\n",
    "print(s)\n",
    "print(s%18)"
   ]
  },
  {
   "cell_type": "code",
   "execution_count": 23,
   "metadata": {},
   "outputs": [
    {
     "name": "stdout",
     "output_type": "stream",
     "text": [
      "I am %s, I am %d years old\n",
      "I am wujing, I am 18 years old\n"
     ]
    }
   ],
   "source": [
    "s = \"I am %s, I am %d years old\"\n",
    "print(s)\n",
    "print(s%(\"wujing\",18)) \n",
    "# 如果出现多个占位符，则相应内容需要用括号括起来"
   ]
  },
  {
   "cell_type": "code",
   "execution_count": 58,
   "metadata": {},
   "outputs": [
    {
     "name": "stdout",
     "output_type": "stream",
     "text": [
      "i love lixiaojing\n",
      "I am 18 years old, I love lixiaojing and I am 18 years old \n"
     ]
    }
   ],
   "source": [
    "# format函数格式化（推荐）\n",
    "## 标号从0开始，format括号内的顺序按照标号来\n",
    "s = \"i love {}\". format(\"lixiaojing\")\n",
    "print(s)\n",
    "\n",
    "s = \"I am {1} years old, I love {0} and I am {1} years old \". format(\"lixiaojing\", 18)\n",
    "print(s)"
   ]
  },
  {
   "cell_type": "markdown",
   "metadata": {},
   "source": [
    "## None\n",
    "* 表示什么都没有\n",
    "* 如果函数没有返回值，可以返回None\n",
    "* 用来占位\n",
    "* 用来解除变量绑定\n",
    "\n",
    "## 表达式\n",
    "* 由一个或者几个数字或变量和运算符组成的一行代码\n",
    "* 通常会返回一个结果\n",
    "\n",
    "## 运算符\n",
    "* 算数运算符：%表示取余数；//表示取商运算，也叫地板除；**表示幂运算\n",
    "* 比较或者关系运算符:比较结果是布尔值，即True或False\n",
    "* 赋值运算符:即=，+=是缩写（所有的运算符都有）\n",
    "* 逻辑运算符：对布尔值进行计算。and看作乘法，false看作加法，True看作1，False看作0，最后结果0则为False，否则为True\n",
    "* 位运算\n",
    "* 成员运算符\n",
    "* 身份运算符"
   ]
  },
  {
   "cell_type": "code",
   "execution_count": 61,
   "metadata": {},
   "outputs": [
    {
     "name": "stdout",
     "output_type": "stream",
     "text": [
      "1\n",
      "2\n"
     ]
    }
   ],
   "source": [
    "a = 9%4\n",
    "print(a)\n",
    "\n",
    "a = 9 // 4\n",
    "print(a)"
   ]
  },
  {
   "cell_type": "code",
   "execution_count": 63,
   "metadata": {},
   "outputs": [
    {
     "name": "stdout",
     "output_type": "stream",
     "text": [
      "False\n",
      "True\n"
     ]
    }
   ],
   "source": [
    "## == , 等于号\n",
    "a = 3**4\n",
    "b = a == 80\n",
    "print(b)\n",
    "\n",
    "## !=  不等于\n",
    "print(9!=8)"
   ]
  },
  {
   "cell_type": "code",
   "execution_count": 69,
   "metadata": {},
   "outputs": [
    {
     "name": "stdout",
     "output_type": "stream",
     "text": [
      "True\n",
      "True\n"
     ]
    }
   ],
   "source": [
    "## 逻辑运算符\n",
    "a = True\n",
    "b = False\n",
    "c = True\n",
    "\n",
    "d = a and b or c\n",
    "print(d)\n",
    "\n",
    "# 逻辑运算短路问题：按顺序计算，一旦能够确定整个式子未来的值，则不再计算，直接返回\n",
    "a = True or xxxxx\n",
    "print(a)"
   ]
  },
  {
   "cell_type": "code",
   "execution_count": 72,
   "metadata": {},
   "outputs": [
    {
     "name": "stdout",
     "output_type": "stream",
     "text": [
      "False\n",
      "True\n"
     ]
    }
   ],
   "source": [
    "# 成员运算符号：用来检测一个变量是否另一个变量的成员\n",
    "l = [1,2,3,4,5,6]\n",
    "a = 7\n",
    "\n",
    "b = a in l\n",
    "print(b)\n",
    "\n",
    "a = 4\n",
    "print(a in l)"
   ]
  },
  {
   "cell_type": "code",
   "execution_count": 76,
   "metadata": {},
   "outputs": [
    {
     "name": "stdout",
     "output_type": "stream",
     "text": [
      "True\n",
      "False\n"
     ]
    }
   ],
   "source": [
    "##  身份运算：用来检测两个变量是否同一个变量\n",
    "a = 9\n",
    "b = 9\n",
    "print(a is b)\n",
    "\n",
    "a = \"I love wang \"\n",
    "b = \"I love wang\"\n",
    "print(a is b)"
   ]
  },
  {
   "cell_type": "markdown",
   "metadata": {},
   "source": [
    "## 运算符优先级问题：\n",
    "* 括号具有最高优先级"
   ]
  },
  {
   "cell_type": "markdown",
   "metadata": {},
   "source": [
    "# 程序结构：顺序、分支、循环"
   ]
  }
 ],
 "metadata": {
  "kernelspec": {
   "display_name": "Python 3",
   "language": "python",
   "name": "python3"
  },
  "language_info": {
   "codemirror_mode": {
    "name": "ipython",
    "version": 3
   },
   "file_extension": ".py",
   "mimetype": "text/x-python",
   "name": "python",
   "nbconvert_exporter": "python",
   "pygments_lexer": "ipython3",
   "version": "3.7.0"
  }
 },
 "nbformat": 4,
 "nbformat_minor": 2
}
